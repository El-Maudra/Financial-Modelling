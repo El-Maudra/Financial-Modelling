{
 "cells": [
  {
   "cell_type": "markdown",
   "id": "fa51fce6",
   "metadata": {},
   "source": [
    "\n",
    "# Vectorized Backtesting\n",
    "\n",
    "Making use of vectorization as a useful technical approach to formulating and backtest trading strategies. Here we focus on the following strategies.\n",
    "\n",
    "- [x] Simple Moving Averages (SMA) Based Strategies\n",
    "- [x] Momentum Strategies\n",
    "- [x] Mean Reversion Strategies\n",
    "\n",
    "N|B The strategies above are not for multifinancial instruments or basket of sevurities.\n",
    "\n",
    "## Simple Moving Averages (SMA) Based Strategies\n",
    "\n",
    "SMAs are a major tool for technical analysis of stock price. A signal is derived for example when an SMA defined on a shorter time window -say 42 days- crosses an SMA defined on a longer time window -say 252 days. The rule is <font color='red'>**to go long whenever the shorter SMA is above the longer one and vice-versa**</font>\n",
    "\n",
    "## Momentum Strategies\n",
    "\n",
    "These strategies are based on the hypothesis that recent recent performance will persist for an additional time. For example, a stock that is on a downward trend is assumed to do for longer hence the stock should be shorted. This approach introduces backtesting strategies based on the time series momentum (recent/historical performance) of the stock.\n",
    "\n",
    "## Mean Reversion Strategies\n",
    "\n",
    "The idea here is that stock prices or prices of other financial instruments tend to revert to some mean level or some trend level where they have deviated too much from such levels."
   ]
  },
  {
   "cell_type": "markdown",
   "id": "ba9f4767",
   "metadata": {},
   "source": [
    "When it comes to financial analysis/modeling, there are a variety of methods and ways. Just to list a few, we have;\n",
    "- time series forecasting\n",
    "- capital asset pricing model\n",
    "- arbitrage pricing model\n",
    "- mean portfolio theorem\n",
    "- Portfolio optimization \n",
    "- derivatives i.e option pricing etc \n",
    "- and so on\n",
    "\n",
    "Here we will focus on Vectorization Backtesting where we will look at the strategies discussed above"
   ]
  },
  {
   "cell_type": "code",
   "execution_count": 1,
   "id": "a4d2b18a",
   "metadata": {},
   "outputs": [],
   "source": [
    "import numpy as np\n",
    "import pandas as pd"
   ]
  },
  {
   "cell_type": "markdown",
   "id": "fc86d954",
   "metadata": {},
   "source": [
    "### Vectorizaton with NumPy"
   ]
  },
  {
   "cell_type": "code",
   "execution_count": 2,
   "id": "44723d8d",
   "metadata": {},
   "outputs": [
    {
     "data": {
      "text/plain": [
       "[1, 2, 3, 4, 5, 6, 7, 8, 9, 10]"
      ]
     },
     "execution_count": 2,
     "metadata": {},
     "output_type": "execute_result"
    }
   ],
   "source": [
    "# creating a list of values\n",
    "v = [1, 2, 3, 4, 5, 6, 7, 8, 9, 10]\n",
    "v"
   ]
  },
  {
   "cell_type": "markdown",
   "id": "5c251540",
   "metadata": {},
   "source": [
    "**Scalar Multiplication in vectorized fashion using List of comprehension**"
   ]
  },
  {
   "cell_type": "code",
   "execution_count": 3,
   "id": "a5fd26c7",
   "metadata": {},
   "outputs": [
    {
     "data": {
      "text/plain": [
       "[1, 2, 3, 4, 5, 6, 7, 8, 9, 10, 1, 2, 3, 4, 5, 6, 7, 8, 9, 10]"
      ]
     },
     "execution_count": 3,
     "metadata": {},
     "output_type": "execute_result"
    }
   ],
   "source": [
    "# trying to multiply each element in the list by 2\n",
    "v*2"
   ]
  },
  {
   "cell_type": "code",
   "execution_count": 4,
   "id": "bd427b8a",
   "metadata": {},
   "outputs": [
    {
     "name": "stdout",
     "output_type": "stream",
     "text": [
      "Wall time: 0 ns\n"
     ]
    },
    {
     "data": {
      "text/plain": [
       "[2, 4, 6, 8, 10, 12, 14, 16, 18, 20]"
      ]
     },
     "execution_count": 4,
     "metadata": {},
     "output_type": "execute_result"
    }
   ],
   "source": [
    "%%time\n",
    "# using list of comrehension to multiply each element of list v\n",
    "\n",
    "sm = [i*2 for i in v]\n",
    "sm"
   ]
  },
  {
   "cell_type": "markdown",
   "id": "46acdccf",
   "metadata": {},
   "source": [
    "**Scalar Multiplication in vectorized fashion using NumPy**"
   ]
  },
  {
   "cell_type": "code",
   "execution_count": 5,
   "id": "b3437376",
   "metadata": {},
   "outputs": [
    {
     "data": {
      "text/plain": [
       "array([ 1,  2,  3,  4,  5,  6,  7,  8,  9, 10])"
      ]
     },
     "execution_count": 5,
     "metadata": {},
     "output_type": "execute_result"
    }
   ],
   "source": [
    "# Using numpy\n",
    "a = np.array(v)\n",
    "a"
   ]
  },
  {
   "cell_type": "code",
   "execution_count": 6,
   "id": "e6a3d78c",
   "metadata": {},
   "outputs": [
    {
     "name": "stdout",
     "output_type": "stream",
     "text": [
      "Wall time: 0 ns\n"
     ]
    },
    {
     "data": {
      "text/plain": [
       "array([ 2,  4,  6,  8, 10, 12, 14, 16, 18, 20])"
      ]
     },
     "execution_count": 6,
     "metadata": {},
     "output_type": "execute_result"
    }
   ],
   "source": [
    "%%time\n",
    "a * 2"
   ]
  },
  {
   "cell_type": "markdown",
   "id": "d999713a",
   "metadata": {},
   "source": [
    "**Linear Transformation in vectorized fashion using List of comprehension**"
   ]
  },
  {
   "cell_type": "code",
   "execution_count": 7,
   "id": "4240232a",
   "metadata": {},
   "outputs": [
    {
     "name": "stdout",
     "output_type": "stream",
     "text": [
      "Wall time: 0 ns\n"
     ]
    },
    {
     "data": {
      "text/plain": [
       "[2.5, 3.0, 3.5, 4.0, 4.5, 5.0, 5.5, 6.0, 6.5, 7.0]"
      ]
     },
     "execution_count": 7,
     "metadata": {},
     "output_type": "execute_result"
    }
   ],
   "source": [
    "%%time\n",
    "[(0.5*i + 2) for i in v] #using list of comprehension"
   ]
  },
  {
   "cell_type": "markdown",
   "id": "0ccb486c",
   "metadata": {},
   "source": [
    "**Linear Transformation in vectorized fashion using NumPy**"
   ]
  },
  {
   "cell_type": "code",
   "execution_count": 8,
   "id": "41cc13f4",
   "metadata": {},
   "outputs": [
    {
     "name": "stdout",
     "output_type": "stream",
     "text": [
      "Wall time: 0 ns\n"
     ]
    },
    {
     "data": {
      "text/plain": [
       "array([2.5, 3. , 3.5, 4. , 4.5, 5. , 5.5, 6. , 6.5, 7. ])"
      ]
     },
     "execution_count": 8,
     "metadata": {},
     "output_type": "execute_result"
    }
   ],
   "source": [
    "%%time\n",
    "0.5*a + 2 #using numpy"
   ]
  },
  {
   "cell_type": "markdown",
   "id": "96d0c627",
   "metadata": {},
   "source": [
    "**Creating 1d ndarray object and reshaping into 2d**"
   ]
  },
  {
   "cell_type": "code",
   "execution_count": 9,
   "id": "3f54f497",
   "metadata": {},
   "outputs": [
    {
     "name": "stdout",
     "output_type": "stream",
     "text": [
      "Length of array(a) is 12 \n",
      "And elements of array(a) are [ 0  1  2  3  4  5  6  7  8  9 10 11] \n",
      "Shape of array(a) is (12,) \n",
      "The size of array(a) is 12 \n",
      "The dimensions of array(a) is 1\n",
      "\n",
      "\n",
      "Reshaping the array to have 4 rows and 3 columns\n",
      "...\n",
      "\n",
      "Length of array(a) is 4 \n",
      "And elements of array(a) are [[ 0  1  2]\n",
      " [ 3  4  5]\n",
      " [ 6  7  8]\n",
      " [ 9 10 11]] \n",
      "Shape of array(a) is (4, 3) \n",
      "The size of array(a) is 12 \n",
      "The dimensions of array(a) is 2\n"
     ]
    }
   ],
   "source": [
    "a = np.arange(12)\n",
    "print(f'Length of array(a) is {len(a)} \\nAnd elements of array(a) are {a} \\nShape of array(a) is {a.shape} \\nThe size of array(a) is {a.size} \\nThe dimensions of array(a) is {a.ndim}')\n",
    "print('\\n')\n",
    "print('Reshaping the array to have 4 rows and 3 columns')\n",
    "print('...')\n",
    "a = a.reshape(-1, 3)\n",
    "print(f'\\nLength of array(a) is {len(a)} \\nAnd elements of array(a) are {a} \\nShape of array(a) is {a.shape} \\nThe size of array(a) is {a.size} \\nThe dimensions of array(a) is {a.ndim}')"
   ]
  },
  {
   "cell_type": "code",
   "execution_count": 10,
   "id": "58a8bb99",
   "metadata": {},
   "outputs": [
    {
     "name": "stdout",
     "output_type": "stream",
     "text": [
      "The mean for array(a) columns = [4.5 5.5 6.5] \n",
      "Mean for array(a) rows = [ 1.  4.  7. 10.]\n",
      "\n",
      "\n",
      "\n",
      "The mean for array(a) = 5.5 \n",
      "Standard Deviation = 3.452052529534663\n"
     ]
    }
   ],
   "source": [
    "print(f'The mean for array(a) columns = {np.mean(a, axis=0)} \\nMean for array(a) rows = {np.mean(a, axis=1)}')\n",
    "print('\\n')\n",
    "print(f'\\nThe mean for array(a) = {np.mean(a)} \\nStandard Deviation = {np.std(a)}')"
   ]
  },
  {
   "cell_type": "markdown",
   "id": "ae9f5d49",
   "metadata": {},
   "source": [
    "### Vectorizaton with Pandas"
   ]
  },
  {
   "cell_type": "code",
   "execution_count": 11,
   "id": "5b80f90b",
   "metadata": {},
   "outputs": [
    {
     "name": "stdout",
     "output_type": "stream",
     "text": [
      "Columns for our dataframe are:  ['a', 'b', 'c'] \n",
      "Index for our dataframe:  DatetimeIndex(['2021-07-01', '2021-07-02', '2021-07-05', '2021-07-06'], dtype='datetime64[ns]', freq='B') \n",
      "Our array is,  [[ 0  1  2]\n",
      " [ 3  4  5]\n",
      " [ 6  7  8]\n",
      " [ 9 10 11]]\n"
     ]
    }
   ],
   "source": [
    "columns = list('abc')\n",
    "index = pd.date_range('2021-7-1', periods=4, freq='B') # B stands for business days\n",
    "print('Columns for our dataframe are: ', columns, '\\nIndex for our dataframe: ', index, '\\nOur array is, ', a)"
   ]
  },
  {
   "cell_type": "code",
   "execution_count": 12,
   "id": "c9066ec8",
   "metadata": {},
   "outputs": [
    {
     "data": {
      "text/html": [
       "<div>\n",
       "<style scoped>\n",
       "    .dataframe tbody tr th:only-of-type {\n",
       "        vertical-align: middle;\n",
       "    }\n",
       "\n",
       "    .dataframe tbody tr th {\n",
       "        vertical-align: top;\n",
       "    }\n",
       "\n",
       "    .dataframe thead th {\n",
       "        text-align: right;\n",
       "    }\n",
       "</style>\n",
       "<table border=\"1\" class=\"dataframe\">\n",
       "  <thead>\n",
       "    <tr style=\"text-align: right;\">\n",
       "      <th></th>\n",
       "      <th>a</th>\n",
       "      <th>b</th>\n",
       "      <th>c</th>\n",
       "    </tr>\n",
       "  </thead>\n",
       "  <tbody>\n",
       "    <tr>\n",
       "      <th>2021-07-01</th>\n",
       "      <td>0</td>\n",
       "      <td>1</td>\n",
       "      <td>2</td>\n",
       "    </tr>\n",
       "    <tr>\n",
       "      <th>2021-07-02</th>\n",
       "      <td>3</td>\n",
       "      <td>4</td>\n",
       "      <td>5</td>\n",
       "    </tr>\n",
       "    <tr>\n",
       "      <th>2021-07-05</th>\n",
       "      <td>6</td>\n",
       "      <td>7</td>\n",
       "      <td>8</td>\n",
       "    </tr>\n",
       "    <tr>\n",
       "      <th>2021-07-06</th>\n",
       "      <td>9</td>\n",
       "      <td>10</td>\n",
       "      <td>11</td>\n",
       "    </tr>\n",
       "  </tbody>\n",
       "</table>\n",
       "</div>"
      ],
      "text/plain": [
       "            a   b   c\n",
       "2021-07-01  0   1   2\n",
       "2021-07-02  3   4   5\n",
       "2021-07-05  6   7   8\n",
       "2021-07-06  9  10  11"
      ]
     },
     "execution_count": 12,
     "metadata": {},
     "output_type": "execute_result"
    }
   ],
   "source": [
    "df = pd.DataFrame(a, columns = columns, index=index)\n",
    "df"
   ]
  },
  {
   "cell_type": "markdown",
   "id": "383e3abb",
   "metadata": {},
   "source": [
    "**Scalar Multiplication in vectorized fashion using Pandas**"
   ]
  },
  {
   "cell_type": "code",
   "execution_count": 13,
   "id": "2fb778af",
   "metadata": {},
   "outputs": [
    {
     "data": {
      "text/html": [
       "<div>\n",
       "<style scoped>\n",
       "    .dataframe tbody tr th:only-of-type {\n",
       "        vertical-align: middle;\n",
       "    }\n",
       "\n",
       "    .dataframe tbody tr th {\n",
       "        vertical-align: top;\n",
       "    }\n",
       "\n",
       "    .dataframe thead th {\n",
       "        text-align: right;\n",
       "    }\n",
       "</style>\n",
       "<table border=\"1\" class=\"dataframe\">\n",
       "  <thead>\n",
       "    <tr style=\"text-align: right;\">\n",
       "      <th></th>\n",
       "      <th>a</th>\n",
       "      <th>b</th>\n",
       "      <th>c</th>\n",
       "    </tr>\n",
       "  </thead>\n",
       "  <tbody>\n",
       "    <tr>\n",
       "      <th>2021-07-01</th>\n",
       "      <td>0</td>\n",
       "      <td>2</td>\n",
       "      <td>4</td>\n",
       "    </tr>\n",
       "    <tr>\n",
       "      <th>2021-07-02</th>\n",
       "      <td>6</td>\n",
       "      <td>8</td>\n",
       "      <td>10</td>\n",
       "    </tr>\n",
       "    <tr>\n",
       "      <th>2021-07-05</th>\n",
       "      <td>12</td>\n",
       "      <td>14</td>\n",
       "      <td>16</td>\n",
       "    </tr>\n",
       "    <tr>\n",
       "      <th>2021-07-06</th>\n",
       "      <td>18</td>\n",
       "      <td>20</td>\n",
       "      <td>22</td>\n",
       "    </tr>\n",
       "  </tbody>\n",
       "</table>\n",
       "</div>"
      ],
      "text/plain": [
       "             a   b   c\n",
       "2021-07-01   0   2   4\n",
       "2021-07-02   6   8  10\n",
       "2021-07-05  12  14  16\n",
       "2021-07-06  18  20  22"
      ]
     },
     "execution_count": 13,
     "metadata": {},
     "output_type": "execute_result"
    }
   ],
   "source": [
    "df*2"
   ]
  },
  {
   "cell_type": "code",
   "execution_count": 14,
   "id": "4c9e3f1b",
   "metadata": {},
   "outputs": [
    {
     "data": {
      "text/plain": [
       "a    18\n",
       "b    22\n",
       "c    26\n",
       "dtype: int64"
      ]
     },
     "execution_count": 14,
     "metadata": {},
     "output_type": "execute_result"
    }
   ],
   "source": [
    "df.sum()"
   ]
  },
  {
   "cell_type": "code",
   "execution_count": 15,
   "id": "1385d21f",
   "metadata": {},
   "outputs": [
    {
     "data": {
      "text/plain": [
       "a    4.5\n",
       "b    5.5\n",
       "c    6.5\n",
       "dtype: float64"
      ]
     },
     "execution_count": 15,
     "metadata": {},
     "output_type": "execute_result"
    }
   ],
   "source": [
    "df.mean()"
   ]
  },
  {
   "cell_type": "code",
   "execution_count": 16,
   "id": "73872e24",
   "metadata": {},
   "outputs": [
    {
     "data": {
      "text/plain": [
       "2021-07-01     2\n",
       "2021-07-02     8\n",
       "2021-07-05    14\n",
       "2021-07-06    20\n",
       "Freq: B, dtype: int32"
      ]
     },
     "execution_count": 16,
     "metadata": {},
     "output_type": "execute_result"
    }
   ],
   "source": [
    "df.a + df.c"
   ]
  },
  {
   "cell_type": "markdown",
   "id": "e7505f9b",
   "metadata": {},
   "source": [
    "**Linear Transformation in vaectorized fashion using NumPy**"
   ]
  },
  {
   "cell_type": "code",
   "execution_count": 17,
   "id": "7c904eb1",
   "metadata": {},
   "outputs": [
    {
     "data": {
      "text/plain": [
       "2021-07-01     0.0\n",
       "2021-07-02     4.5\n",
       "2021-07-05     9.0\n",
       "2021-07-06    13.5\n",
       "Freq: B, dtype: float64"
      ]
     },
     "execution_count": 17,
     "metadata": {},
     "output_type": "execute_result"
    }
   ],
   "source": [
    "0.5 * df.a + 2 * df.b - df.c"
   ]
  },
  {
   "cell_type": "code",
   "execution_count": 18,
   "id": "911bada8",
   "metadata": {},
   "outputs": [
    {
     "data": {
      "text/plain": [
       "2021-07-01    False\n",
       "2021-07-02    False\n",
       "2021-07-05     True\n",
       "2021-07-06     True\n",
       "Freq: B, Name: a, dtype: bool"
      ]
     },
     "execution_count": 18,
     "metadata": {},
     "output_type": "execute_result"
    }
   ],
   "source": [
    "df.a > 5"
   ]
  },
  {
   "cell_type": "code",
   "execution_count": 19,
   "id": "f2eaa100",
   "metadata": {},
   "outputs": [
    {
     "data": {
      "text/html": [
       "<div>\n",
       "<style scoped>\n",
       "    .dataframe tbody tr th:only-of-type {\n",
       "        vertical-align: middle;\n",
       "    }\n",
       "\n",
       "    .dataframe tbody tr th {\n",
       "        vertical-align: top;\n",
       "    }\n",
       "\n",
       "    .dataframe thead th {\n",
       "        text-align: right;\n",
       "    }\n",
       "</style>\n",
       "<table border=\"1\" class=\"dataframe\">\n",
       "  <thead>\n",
       "    <tr style=\"text-align: right;\">\n",
       "      <th></th>\n",
       "      <th>a</th>\n",
       "      <th>b</th>\n",
       "      <th>c</th>\n",
       "    </tr>\n",
       "  </thead>\n",
       "  <tbody>\n",
       "    <tr>\n",
       "      <th>2021-07-05</th>\n",
       "      <td>6</td>\n",
       "      <td>7</td>\n",
       "      <td>8</td>\n",
       "    </tr>\n",
       "    <tr>\n",
       "      <th>2021-07-06</th>\n",
       "      <td>9</td>\n",
       "      <td>10</td>\n",
       "      <td>11</td>\n",
       "    </tr>\n",
       "  </tbody>\n",
       "</table>\n",
       "</div>"
      ],
      "text/plain": [
       "            a   b   c\n",
       "2021-07-05  6   7   8\n",
       "2021-07-06  9  10  11"
      ]
     },
     "execution_count": 19,
     "metadata": {},
     "output_type": "execute_result"
    }
   ],
   "source": [
    "df[df.a > 5]"
   ]
  },
  {
   "cell_type": "markdown",
   "id": "17e7c7f6",
   "metadata": {},
   "source": [
    "For vectorized backtesting of trading strategies, comparison between two columns are tyoical"
   ]
  },
  {
   "cell_type": "code",
   "execution_count": 20,
   "id": "c727a5ca",
   "metadata": {},
   "outputs": [
    {
     "data": {
      "text/plain": [
       "2021-07-01    True\n",
       "2021-07-02    True\n",
       "2021-07-05    True\n",
       "2021-07-06    True\n",
       "Freq: B, dtype: bool"
      ]
     },
     "execution_count": 20,
     "metadata": {},
     "output_type": "execute_result"
    }
   ],
   "source": [
    "df.c > df.b"
   ]
  },
  {
   "cell_type": "code",
   "execution_count": 21,
   "id": "a688b522",
   "metadata": {},
   "outputs": [
    {
     "data": {
      "text/plain": [
       "2021-07-01    False\n",
       "2021-07-02     True\n",
       "2021-07-05     True\n",
       "2021-07-06     True\n",
       "Freq: B, dtype: bool"
      ]
     },
     "execution_count": 21,
     "metadata": {},
     "output_type": "execute_result"
    }
   ],
   "source": [
    "df.a + df.b > df.c"
   ]
  }
 ],
 "metadata": {
  "kernelspec": {
   "display_name": "Python 3",
   "language": "python",
   "name": "python3"
  },
  "language_info": {
   "codemirror_mode": {
    "name": "ipython",
    "version": 3
   },
   "file_extension": ".py",
   "mimetype": "text/x-python",
   "name": "python",
   "nbconvert_exporter": "python",
   "pygments_lexer": "ipython3",
   "version": "3.8.5"
  }
 },
 "nbformat": 4,
 "nbformat_minor": 5
}
