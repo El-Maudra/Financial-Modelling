{
 "cells": [
  {
   "cell_type": "code",
   "execution_count": 2,
   "id": "47782292",
   "metadata": {},
   "outputs": [],
   "source": [
    "import math\n",
    "import scipy.stats as scs\n",
    "import warnings\n",
    "\n",
    "warnings.filterwarnings('ignore')"
   ]
  },
  {
   "cell_type": "markdown",
   "id": "2d5bc059",
   "metadata": {},
   "source": [
    "        ''' Black-Scholes-Merton European call option class.\n",
    "\n",
    "            Attributes\n",
    "            ==========\n",
    "\n",
    "            S0: float\n",
    "                initial index level\n",
    "            K: float\n",
    "                strike price\n",
    "            T: float\n",
    "                time-to-maturity\n",
    "            r: float\n",
    "                constant short rate\n",
    "            vola: float\n",
    "                constant volatility factor\n",
    "        '''"
   ]
  },
  {
   "cell_type": "code",
   "execution_count": 4,
   "id": "e4d1cbc5",
   "metadata": {},
   "outputs": [],
   "source": [
    "class Option:\n",
    "    \n",
    "    ''' Black-Scholes-Merton European call option class.\n",
    "\n",
    "        Attributes\n",
    "        ==========\n",
    "\n",
    "        S0: float\n",
    "            initial index level\n",
    "        K: float\n",
    "            strike price\n",
    "        T: float\n",
    "            time-to-maturity\n",
    "        r: float\n",
    "            constant short rate\n",
    "        vola: float\n",
    "            constant volatility factor\n",
    "    '''\n",
    "    \n",
    "    def __init__(self, S0, K, T, r, vola):\n",
    "        self.S0 = float(S0)\n",
    "        self.K = K\n",
    "        self.T = T\n",
    "        self.r = r\n",
    "        self.vola = vola\n",
    "        \n",
    "    def d1(self):\n",
    "        d1 = ((math.log(self.S0 / self.K) + (self.r + 0.5 * self.vola ** 2) * self.T) / (self.vola * math.sqrt(self.T)))\n",
    "        return d1\n",
    "    \n",
    "    def Call_Option(self):\n",
    "        d1 = self.d1()\n",
    "        d2 = d1 - self.vola * math.sqrt(self.T)\n",
    "        call_value = (self.S0 * scs.norm.cdf(d1, 0.0, 1.0) - self.K * math.exp(-self.r * self.T) * scs.norm.cdf(d2, 0.0, 1.0))\n",
    "        return call_value\n",
    "\n",
    "class OptionVega(Option):\n",
    "    def vega(self):\n",
    "        d1 = self.d1()\n",
    "        vega = self.S0 * scs.norm.pdf(d1, 0.0, 1.0) * math.sqrt(self.T)\n",
    "        return vega"
   ]
  },
  {
   "cell_type": "code",
   "execution_count": null,
   "id": "66cb1175",
   "metadata": {},
   "outputs": [],
   "source": []
  }
 ],
 "metadata": {
  "kernelspec": {
   "display_name": "Python 3 (ipykernel)",
   "language": "python",
   "name": "python3"
  },
  "language_info": {
   "codemirror_mode": {
    "name": "ipython",
    "version": 3
   },
   "file_extension": ".py",
   "mimetype": "text/x-python",
   "name": "python",
   "nbconvert_exporter": "python",
   "pygments_lexer": "ipython3",
   "version": "3.9.12"
  }
 },
 "nbformat": 4,
 "nbformat_minor": 5
}
