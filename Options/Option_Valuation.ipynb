{
 "cells": [
  {
   "cell_type": "markdown",
   "id": "84b4a0f4",
   "metadata": {},
   "source": [
    "# Valuation of European Call Option in <font color = 'green'>Black-Scholes-Merton (BSM)</font> Model"
   ]
  },
  {
   "cell_type": "code",
   "execution_count": 11,
   "id": "edfbc21e",
   "metadata": {},
   "outputs": [],
   "source": [
    "from scipy import stats\n",
    "import math\n",
    "import numpy as np\n",
    "import matplotlib.pyplot as plt"
   ]
  },
  {
   "cell_type": "markdown",
   "id": "b5dca2f9",
   "metadata": {},
   "source": [
    "### Parameters"
   ]
  },
  {
   "cell_type": "markdown",
   "id": "f523f345",
   "metadata": {},
   "source": [
    "        S_0 -  initial index level\n",
    "        K - strike price\n",
    "        T - call option maturity\n",
    "        r - constant short rate\n",
    "        vola - constant volatility factor of diffusion"
   ]
  },
  {
   "cell_type": "code",
   "execution_count": 3,
   "id": "6313814d",
   "metadata": {},
   "outputs": [],
   "source": [
    "def BSM_call_value(S_0, K, T, r, vola):\n",
    "    ''' Analytical European call option value for Black-Scholes-Merton (1973).\n",
    "    \n",
    "        Parameters\n",
    "        ==========\n",
    "        \n",
    "        S0: float\n",
    "        initial index level\n",
    "        \n",
    "        K: float\n",
    "        strike price\n",
    "        \n",
    "        T: float\n",
    "        time-to-maturity\n",
    "        \n",
    "        r: float\n",
    "        constant short rate\n",
    "        \n",
    "        vola: float\n",
    "        constant volatility factor\n",
    "        \n",
    "        Returns\n",
    "        =======\n",
    "        \n",
    "        call_value: float\n",
    "        European call option present value\n",
    "    '''\n",
    "    S_0 = float(S_0) # make sure to have float type\n",
    "    d1 = (math.log(S_0 / K) + (r + 0.5 * vola ** 2) * T) / (vola * math.sqrt(T))\n",
    "    d2 = d1 - vola * math.sqrt(T)\n",
    "    call_value = (S_0 * stats.norm.cdf(d1, 0.0, 1.0) - K * math.exp(-r * T) * stats.norm.cdf(d2, 0.0, 1.0))\n",
    "    \n",
    "    return call_value"
   ]
  },
  {
   "cell_type": "code",
   "execution_count": 4,
   "id": "f4fa487f",
   "metadata": {},
   "outputs": [],
   "source": [
    "S_0 = 110\n",
    "K = 115\n",
    "T = 3\n",
    "r = 0.05\n",
    "vola = 0.05"
   ]
  },
  {
   "cell_type": "code",
   "execution_count": 7,
   "id": "19a045fc",
   "metadata": {},
   "outputs": [
    {
     "name": "stdout",
     "output_type": "stream",
     "text": [
      "Value of European call option is: 11.506\n"
     ]
    }
   ],
   "source": [
    "print(\"Value of European call option is: %5.3f\"%BSM_call_value(S_0, K, T, r, vola))"
   ]
  },
  {
   "cell_type": "markdown",
   "id": "75d4a684",
   "metadata": {},
   "source": [
    "# Valuation of European Call Option in <font color = 'green'>Monte Carlo Simulation</font> "
   ]
  },
  {
   "cell_type": "code",
   "execution_count": 9,
   "id": "b36426d0",
   "metadata": {},
   "outputs": [
    {
     "name": "stdout",
     "output_type": "stream",
     "text": [
      "Value of European call option is 11.527\n"
     ]
    }
   ],
   "source": [
    "I = 100000\n",
    "\n",
    "rand = np.random.standard_normal(I)\n",
    "\n",
    "ST = S_0 * np.exp((r - 0.5 * vola ** 2) * T + np.sqrt(T) * vola * rand)\n",
    "\n",
    "pv = np.sum(np.maximum(ST - K, 0) * np.exp(-r * T)) / I # MCS estimator\n",
    "# Result Output\n",
    "print(\"Value of European call option is %5.3f\" % pv)"
   ]
  },
  {
   "cell_type": "code",
   "execution_count": 13,
   "id": "9365a5d4",
   "metadata": {},
   "outputs": [
    {
     "data": {
      "image/png": "[encoded data removed]",
      "text/plain": [
       "<Figure size 720x576 with 1 Axes>"
      ]
     },
     "metadata": {
      "needs_background": "light"
     },
     "output_type": "display_data"
    }
   ],
   "source": [
    "plt.figure(figsize=(10,8))\n",
    "plt.hist(ST, 100)\n",
    "plt.xlabel('Index Level at T')\n",
    "plt.ylabel('Frequency')\n",
    "plt.grid(True)"
   ]
  },
  {
   "cell_type": "code",
   "execution_count": null,
   "id": "d2f1c0a3",
   "metadata": {},
   "outputs": [],
   "source": []
  },
  {
   "cell_type": "code",
   "execution_count": null,
   "id": "e3c79d87",
   "metadata": {},
   "outputs": [],
   "source": []
  },
  {
   "cell_type": "code",
   "execution_count": null,
   "id": "f43475fd",
   "metadata": {},
   "outputs": [],
   "source": []
  }
 ],
 "metadata": {
  "kernelspec": {
   "display_name": "Python 3 (ipykernel)",
   "language": "python",
   "name": "python3"
  },
  "language_info": {
   "codemirror_mode": {
    "name": "ipython",
    "version": 3
   },
   "file_extension": ".py",
   "mimetype": "text/x-python",
   "name": "python",
   "nbconvert_exporter": "python",
   "pygments_lexer": "ipython3",
   "version": "3.9.12"
  }
 },
 "nbformat": 4,
 "nbformat_minor": 5
}
